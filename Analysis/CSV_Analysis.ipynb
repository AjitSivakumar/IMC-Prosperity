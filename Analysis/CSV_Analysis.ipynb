{
 "cells": [
  {
   "cell_type": "code",
   "execution_count": null,
   "metadata": {},
   "outputs": [],
   "source": []
  }
 ],
 "metadata": {
  "kernelspec": {
   "display_name": "Python 3",
   "language": "python",
   "name": "python3"
  },
  "language_info": {
   "name": "python",
   "version": "3.10.8"
  },
  "orig_nbformat": 4,
  "vscode": {
   "interpreter": {
    "hash": "91ec72c811a3f68f47a541c4e592354b61644cb7aaeb031820d0f1007b880408"
   }
  }
 },
 "nbformat": 4,
 "nbformat_minor": 2
}
